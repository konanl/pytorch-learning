{
 "cells": [
  {
   "cell_type": "code",
   "execution_count": 1,
   "id": "4793820f",
   "metadata": {},
   "outputs": [],
   "source": [
    "import torch\n",
    "from torch import nn\n",
    "import torch.nn.functional as F\n",
    "import torch.optim as optim\n",
    "from torchvision import datasets, transforms"
   ]
  },
  {
   "cell_type": "code",
   "execution_count": 2,
   "id": "03ef781e",
   "metadata": {},
   "outputs": [
    {
     "name": "stdout",
     "output_type": "stream",
     "text": [
      "train:  60000 test:  10000\n",
      "db1: 50000 db2: 10000\n"
     ]
    }
   ],
   "source": [
    "# init the train data for three part 1.train set 2.validation set 3.test set\n",
    "\n",
    "trans = transforms.ToTensor()\n",
    "batch_size = 256\n",
    "\n",
    "# train set\n",
    "train_db = datasets.FashionMNIST(root='data', train=True, transform=trans, download=True)\n",
    "train_loader = torch.utils.data.DataLoader(train_db, batch_size=batch_size, shuffle=True)\n",
    "\n",
    "# test set\n",
    "test_db = datasets.FashionMNIST(root='data', train=False, transform=trans, download=True)\n",
    "test_loader = torch.utils.data.DataLoader(test_db, batch_size=batch_size, shuffle=False)\n",
    "\n",
    "print('train: ', len(train_db), 'test: ', len(test_db))\n",
    "\n",
    "# val set\n",
    "train_db, val_db = torch.utils.data.random_split(train_db, [50000, 10000])\n",
    "\n",
    "print('db1:', len(train_db), 'db2:', len(val_db))\n",
    "\n",
    "train_loader = torch.utils.data.DataLoader(\n",
    "    train_db,\n",
    "    batch_size=batch_size, shuffle=True)\n",
    "\n",
    "val_loader = torch.utils.data.DataLoader(\n",
    "    val_db,\n",
    "    batch_size=batch_size, shuffle=True)"
   ]
  },
  {
   "cell_type": "code",
   "execution_count": null,
   "id": "c6ef0df7",
   "metadata": {},
   "outputs": [],
   "source": []
  }
 ],
 "metadata": {
  "kernelspec": {
   "display_name": "Python 3 (ipykernel)",
   "language": "python",
   "name": "python3"
  },
  "language_info": {
   "codemirror_mode": {
    "name": "ipython",
    "version": 3
   },
   "file_extension": ".py",
   "mimetype": "text/x-python",
   "name": "python",
   "nbconvert_exporter": "python",
   "pygments_lexer": "ipython3",
   "version": "3.9.9"
  }
 },
 "nbformat": 4,
 "nbformat_minor": 5
}
