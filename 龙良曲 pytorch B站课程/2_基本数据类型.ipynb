{
 "cells": [
  {
   "cell_type": "code",
   "execution_count": 14,
   "id": "3d965dc6",
   "metadata": {},
   "outputs": [],
   "source": [
    "import torch\n",
    "import numpy as np"
   ]
  },
  {
   "cell_type": "code",
   "execution_count": 2,
   "id": "3ffc07d2",
   "metadata": {},
   "outputs": [],
   "source": [
    "# How to denote string\n",
    "# 0ne-hot / Embedding"
   ]
  },
  {
   "cell_type": "code",
   "execution_count": 3,
   "id": "0a59bf2e",
   "metadata": {},
   "outputs": [
    {
     "data": {
      "text/plain": [
       "(tensor([[ 0.9814, -0.6438,  2.9055],\n",
       "         [-1.0198,  0.4671, -0.4582]]),\n",
       " 'torch.FloatTensor',\n",
       " torch.Tensor)"
      ]
     },
     "execution_count": 3,
     "metadata": {},
     "output_type": "execute_result"
    }
   ],
   "source": [
    "# Type Check\n",
    "\n",
    "a = torch.randn(2,3)\n",
    "\n",
    "a, a.type(), type(a)"
   ]
  },
  {
   "cell_type": "code",
   "execution_count": 4,
   "id": "0068fadd",
   "metadata": {},
   "outputs": [
    {
     "data": {
      "text/plain": [
       "True"
      ]
     },
     "execution_count": 4,
     "metadata": {},
     "output_type": "execute_result"
    }
   ],
   "source": [
    "isinstance(a, torch.FloatTensor)"
   ]
  },
  {
   "cell_type": "code",
   "execution_count": 11,
   "id": "a2f03653",
   "metadata": {},
   "outputs": [
    {
     "data": {
      "text/plain": [
       "(tensor(1.), torch.Size([]), 0, torch.Size([]))"
      ]
     },
     "execution_count": 11,
     "metadata": {},
     "output_type": "execute_result"
    }
   ],
   "source": [
    "# Dim 0 , scaler\n",
    "\n",
    "a = torch.tensor(1.0)\n",
    "\n",
    "a, a.shape, len(a.shape), a.size()"
   ]
  },
  {
   "cell_type": "code",
   "execution_count": 12,
   "id": "477b0436",
   "metadata": {},
   "outputs": [
    {
     "data": {
      "text/plain": [
       "(tensor([1., 2.]), torch.Size([2]), 1, torch.Size([2]))"
      ]
     },
     "execution_count": 12,
     "metadata": {},
     "output_type": "execute_result"
    }
   ],
   "source": [
    "# Dim 1 , vector\n",
    "\n",
    "a = torch.tensor([1., 2.])\n",
    "\n",
    "a, a.shape, len(a.shape), a.size()"
   ]
  },
  {
   "cell_type": "code",
   "execution_count": 18,
   "id": "5055998e",
   "metadata": {},
   "outputs": [
    {
     "data": {
      "text/plain": [
       "(tensor([9.2755e-39, 1.0837e-38, 8.4490e-39]),\n",
       " torch.Size([3]),\n",
       " 1,\n",
       " torch.Size([3]))"
      ]
     },
     "execution_count": 18,
     "metadata": {},
     "output_type": "execute_result"
    }
   ],
   "source": [
    "b = torch.Tensor(3)\n",
    "\n",
    "b, b.shape, len(b.shape), b.size()"
   ]
  },
  {
   "cell_type": "code",
   "execution_count": 19,
   "id": "896ae0de",
   "metadata": {},
   "outputs": [
    {
     "data": {
      "text/plain": [
       "(tensor([[1., 1., 1.],\n",
       "         [1., 1., 1.]], dtype=torch.float64),\n",
       " torch.Size([2, 3]),\n",
       " 2,\n",
       " torch.Size([2, 3]))"
      ]
     },
     "execution_count": 19,
     "metadata": {},
     "output_type": "execute_result"
    }
   ],
   "source": [
    "c = np.ones((2,3))\n",
    "c = torch.from_numpy(c)\n",
    "\n",
    "c, c.shape, len(c.shape), c.size()"
   ]
  },
  {
   "cell_type": "code",
   "execution_count": 21,
   "id": "5777548e",
   "metadata": {},
   "outputs": [
    {
     "data": {
      "text/plain": [
       "(tensor([[-1.7118, -0.5592,  0.0322],\n",
       "         [ 0.5100,  0.0161,  0.7659]]),\n",
       " torch.Size([2, 3]),\n",
       " 2,\n",
       " 3,\n",
       " 3)"
      ]
     },
     "execution_count": 21,
     "metadata": {},
     "output_type": "execute_result"
    }
   ],
   "source": [
    "# Dim 2\n",
    "\n",
    "a = torch.randn(2,3)\n",
    "\n",
    "a, a.shape, a.size(0), a.size(1), a.shape[1]"
   ]
  },
  {
   "cell_type": "code",
   "execution_count": 22,
   "id": "de3690b8",
   "metadata": {},
   "outputs": [
    {
     "data": {
      "text/plain": [
       "torch.Size"
      ]
     },
     "execution_count": 22,
     "metadata": {},
     "output_type": "execute_result"
    }
   ],
   "source": [
    "type(a.shape)"
   ]
  },
  {
   "cell_type": "code",
   "execution_count": 23,
   "id": "6246f21b",
   "metadata": {},
   "outputs": [
    {
     "data": {
      "text/plain": [
       "(tensor([[[0.0938, 0.0413, 0.3494],\n",
       "          [0.5211, 0.1257, 0.7845]]]),\n",
       " torch.Size([1, 2, 3]),\n",
       " torch.Size([1, 2, 3]),\n",
       " [1, 2, 3])"
      ]
     },
     "execution_count": 23,
     "metadata": {},
     "output_type": "execute_result"
    }
   ],
   "source": [
    "# Dim 3\n",
    "\n",
    "a = torch.rand(1,2,3)\n",
    "\n",
    "a, a.shape, a.size(), list(a.shape)"
   ]
  },
  {
   "cell_type": "code",
   "execution_count": 28,
   "id": "c94c33c9",
   "metadata": {},
   "outputs": [
    {
     "data": {
      "text/plain": [
       "(torch.Size([2, 3, 28, 28]), 4)"
      ]
     },
     "execution_count": 28,
     "metadata": {},
     "output_type": "execute_result"
    }
   ],
   "source": [
    "# Dim 4\n",
    "\n",
    "a = torch.rand(2,3,28,28)\n",
    "\n",
    "a.shape, a.dim()"
   ]
  },
  {
   "cell_type": "code",
   "execution_count": 26,
   "id": "d7876b7f",
   "metadata": {},
   "outputs": [
    {
     "data": {
      "text/plain": [
       "4704"
      ]
     },
     "execution_count": 26,
     "metadata": {},
     "output_type": "execute_result"
    }
   ],
   "source": [
    "# 占用数据内存\n",
    "\n",
    "a.numel()"
   ]
  }
 ],
 "metadata": {
  "kernelspec": {
   "display_name": "Python 3 (ipykernel)",
   "language": "python",
   "name": "python3"
  },
  "language_info": {
   "codemirror_mode": {
    "name": "ipython",
    "version": 3
   },
   "file_extension": ".py",
   "mimetype": "text/x-python",
   "name": "python",
   "nbconvert_exporter": "python",
   "pygments_lexer": "ipython3",
   "version": "3.9.9"
  }
 },
 "nbformat": 4,
 "nbformat_minor": 5
}
