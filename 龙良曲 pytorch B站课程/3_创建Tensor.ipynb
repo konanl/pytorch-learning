{
 "cells": [
  {
   "cell_type": "code",
   "execution_count": 1,
   "id": "6a1327f1",
   "metadata": {},
   "outputs": [],
   "source": [
    "import torch\n",
    "import numpy as np"
   ]
  },
  {
   "cell_type": "code",
   "execution_count": 6,
   "id": "3330d7bf",
   "metadata": {},
   "outputs": [
    {
     "name": "stdout",
     "output_type": "stream",
     "text": [
      "tensor([[1., 2., 3.],\n",
      "        [4., 5., 6.]], dtype=torch.float64) torch.Size([2, 3])\n",
      "tensor([[1., 1., 1.],\n",
      "        [1., 1., 1.]], dtype=torch.float64) torch.Size([2, 3])\n"
     ]
    }
   ],
   "source": [
    "# import from numpy array\n",
    "\n",
    "a = torch.from_numpy(np.array([[1.,2,3], \n",
    "                               [4,5,6]]))\n",
    "\n",
    "print(a, a.shape)\n",
    "\n",
    "\n",
    "b = torch.from_numpy(np.ones((2,3)))\n",
    "\n",
    "print(b, b.shape)"
   ]
  },
  {
   "cell_type": "code",
   "execution_count": 7,
   "id": "667a9dbd",
   "metadata": {},
   "outputs": [
    {
     "name": "stdout",
     "output_type": "stream",
     "text": [
      "tensor([1., 2.]) torch.Size([2])\n"
     ]
    }
   ],
   "source": [
    "# import from a list \n",
    "\n",
    "a = torch.tensor([1.,2])\n",
    "print(a, a.shape)"
   ]
  },
  {
   "cell_type": "code",
   "execution_count": 9,
   "id": "f19d6efc",
   "metadata": {},
   "outputs": [
    {
     "name": "stdout",
     "output_type": "stream",
     "text": [
      "tensor([[4.2931e-08, 2.1748e+23, 5.3596e-08],\n",
      "        [2.1274e+23, 3.3245e+21, 1.3235e-08]])\n",
      "tensor([[0.0000e+00, 0.0000e+00, 0.0000e+00],\n",
      "        [0.0000e+00, 0.0000e+00, 5.9694e-39]])\n"
     ]
    }
   ],
   "source": [
    "# uninitialized\n",
    "\n",
    "# empty()\n",
    "\n",
    "a = torch.empty((2,3))\n",
    "print(a)\n",
    "\n",
    "b = torch.Tensor(2,3)\n",
    "print(b)"
   ]
  },
  {
   "cell_type": "code",
   "execution_count": 10,
   "id": "1b9e848a",
   "metadata": {},
   "outputs": [],
   "source": [
    "# set default type\n",
    "# torch.set_default_tensor_type()"
   ]
  },
  {
   "cell_type": "code",
   "execution_count": 12,
   "id": "8232b724",
   "metadata": {},
   "outputs": [
    {
     "name": "stdout",
     "output_type": "stream",
     "text": [
      "tensor([[0.4751, 0.1222, 0.2318],\n",
      "        [0.5496, 0.5244, 0.5042],\n",
      "        [0.8128, 0.9891, 0.3477]])\n",
      "tensor([[0.4426, 0.7971, 0.0644],\n",
      "        [0.4562, 0.2056, 0.5169],\n",
      "        [0.4098, 0.5609, 0.6190]])\n",
      "tensor([[1., 9., 5.],\n",
      "        [2., 1., 5.],\n",
      "        [6., 7., 5.]])\n"
     ]
    }
   ],
   "source": [
    "# 随机初始化 rand/rand_like randint\n",
    "# rand-[0, 1] 均匀分布\n",
    "\n",
    "a = torch.rand((3,3), dtype=torch.float32)\n",
    "print(a)\n",
    "\n",
    "b = torch.rand_like(a, dtype=torch.float32)\n",
    "print(b)\n",
    "\n",
    "c = torch.randint(1,10,(3,3), dtype=torch.float32)\n",
    "print(c)"
   ]
  },
  {
   "cell_type": "code",
   "execution_count": 18,
   "id": "99af046c",
   "metadata": {},
   "outputs": [
    {
     "name": "stdout",
     "output_type": "stream",
     "text": [
      "tensor([[0.8702, 0.7870, 0.7774],\n",
      "        [0.6119, 0.5421, 0.8703]])\n"
     ]
    }
   ],
   "source": [
    "# rand- mean0, std 1 正态分布/高斯分布\n",
    "\n",
    "a = torch.rand(2,3)\n",
    "print(a)\n",
    "\n",
    "# b = torch.normal(mean=torch.full([10], 0), std=torch.arange(1, 0, -0.1))"
   ]
  },
  {
   "cell_type": "code",
   "execution_count": 19,
   "id": "32c8dd9f",
   "metadata": {},
   "outputs": [
    {
     "name": "stdout",
     "output_type": "stream",
     "text": [
      "tensor([[6, 6, 6],\n",
      "        [6, 6, 6]])\n",
      "tensor(6)\n",
      "tensor([6, 6])\n"
     ]
    }
   ],
   "source": [
    "# full\n",
    "\n",
    "a = torch.full((2,3), 6)\n",
    "print(a)\n",
    "\n",
    "b = torch.full([], 6)\n",
    "print(b)\n",
    "\n",
    "c = torch.full([2], 6)\n",
    "print(c)"
   ]
  },
  {
   "cell_type": "code",
   "execution_count": 22,
   "id": "cccedc40",
   "metadata": {},
   "outputs": [
    {
     "name": "stdout",
     "output_type": "stream",
     "text": [
      "tensor([1, 2, 3, 4, 5, 6, 7, 8, 9])\n",
      "tensor([1, 3, 5, 7, 9])\n",
      "tensor([ 0.,  5., 10.])\n",
      "tensor([1.0000e+00, 1.0000e+05, 1.0000e+10])\n"
     ]
    }
   ],
   "source": [
    "# arange/range(不建议使用)\n",
    "a = torch.arange(1,10)\n",
    "print(a)\n",
    "\n",
    "b = torch.arange(1,10,2)\n",
    "print(b)\n",
    "\n",
    "# linspace/logspace\n",
    "c = torch.linspace(0,10,steps=3)\n",
    "print(c)\n",
    "\n",
    "d = torch.logspace(0,10, steps=3)\n",
    "print(d)"
   ]
  },
  {
   "cell_type": "code",
   "execution_count": 23,
   "id": "d09eee0e",
   "metadata": {},
   "outputs": [
    {
     "data": {
      "text/plain": [
       "(tensor([[1., 1., 1.],\n",
       "         [1., 1., 1.]]),\n",
       " tensor([[0., 0., 0.],\n",
       "         [0., 0., 0.]]),\n",
       " tensor([[1., 0., 0.],\n",
       "         [0., 1., 0.]]))"
      ]
     },
     "execution_count": 23,
     "metadata": {},
     "output_type": "execute_result"
    }
   ],
   "source": [
    "# ones/zeros/eye\n",
    "\n",
    "torch.ones(2,3), torch.zeros(2,3), torch.eye(2,3)"
   ]
  },
  {
   "cell_type": "code",
   "execution_count": 25,
   "id": "42e1223c",
   "metadata": {},
   "outputs": [
    {
     "name": "stdout",
     "output_type": "stream",
     "text": [
      "tensor([[ 0.4163,  0.0347,  0.7991],\n",
      "        [-2.8817,  1.1018, -0.0939]]) \n",
      " tensor([[-0.9397,  1.5510],\n",
      "        [-0.6934,  1.2888]])\n"
     ]
    }
   ],
   "source": [
    "# randperm\n",
    "\n",
    "a = torch.randn(2,3)\n",
    "b = torch.randn(2,2)\n",
    "\n",
    "print(a,'\\n', b)"
   ]
  },
  {
   "cell_type": "code",
   "execution_count": 26,
   "id": "c1e41a3a",
   "metadata": {},
   "outputs": [
    {
     "name": "stdout",
     "output_type": "stream",
     "text": [
      "tensor([1, 0])\n"
     ]
    }
   ],
   "source": [
    "idx = torch.randperm(2)\n",
    "print(idx)"
   ]
  },
  {
   "cell_type": "code",
   "execution_count": 27,
   "id": "5c06ed51",
   "metadata": {},
   "outputs": [
    {
     "data": {
      "text/plain": [
       "(tensor([[-2.8817,  1.1018, -0.0939],\n",
       "         [ 0.4163,  0.0347,  0.7991]]),\n",
       " tensor([[-0.6934,  1.2888],\n",
       "         [-0.9397,  1.5510]]))"
      ]
     },
     "execution_count": 27,
     "metadata": {},
     "output_type": "execute_result"
    }
   ],
   "source": [
    "a[idx], b[idx]"
   ]
  }
 ],
 "metadata": {
  "kernelspec": {
   "display_name": "Python 3 (ipykernel)",
   "language": "python",
   "name": "python3"
  },
  "language_info": {
   "codemirror_mode": {
    "name": "ipython",
    "version": 3
   },
   "file_extension": ".py",
   "mimetype": "text/x-python",
   "name": "python",
   "nbconvert_exporter": "python",
   "pygments_lexer": "ipython3",
   "version": "3.9.9"
  }
 },
 "nbformat": 4,
 "nbformat_minor": 5
}
