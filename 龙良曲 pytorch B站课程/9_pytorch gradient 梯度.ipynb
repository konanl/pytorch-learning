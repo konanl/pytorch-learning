{
 "cells": [
  {
   "cell_type": "code",
   "execution_count": 28,
   "id": "0c3c1021",
   "metadata": {},
   "outputs": [],
   "source": [
    "import torch\n",
    "import numpy as np\n",
    "from torch.nn import functional as F"
   ]
  },
  {
   "cell_type": "raw",
   "id": "82326c6f",
   "metadata": {},
   "source": [
    "Gradient API\n",
    "\n",
    "1) torch.autograd.grad(loss, [w1,w2,w3....]) --> [dl/dw1, dl/dw2, dl/dw3...]\n",
    "\n",
    "2) loss.backward() --> w1.grad w2.grad"
   ]
  },
  {
   "cell_type": "code",
   "execution_count": 29,
   "id": "cd257db6",
   "metadata": {},
   "outputs": [
    {
     "name": "stdout",
     "output_type": "stream",
     "text": [
      "tensor([ 6.,  8., 10.], grad_fn=<AddBackward0>)\n"
     ]
    }
   ],
   "source": [
    "# autograd.grad\n",
    "\n",
    "# example 1\n",
    "# loss = (y-(wx-b))**2 -> dl/dw,dl/db\n",
    "\n",
    "x = torch.tensor([[1,2,3], \n",
    "                  [4,5,6]], dtype=torch.float32)\n",
    "w = torch.ones(2, dtype=torch.float32)\n",
    "b = torch.ones(1, dtype=torch.float32)\n",
    "\n",
    "w.requires_grad_(), b.requires_grad_()\n",
    "\n",
    "y = w@x + b\n",
    "\n",
    "print(y)"
   ]
  },
  {
   "cell_type": "code",
   "execution_count": 30,
   "id": "a2aad20e",
   "metadata": {},
   "outputs": [
    {
     "data": {
      "text/plain": [
       "(torch.Size([2, 3]), torch.Size([2]), torch.Size([1]), torch.Size([3]))"
      ]
     },
     "execution_count": 30,
     "metadata": {},
     "output_type": "execute_result"
    }
   ],
   "source": [
    "x.shape, w.shape, b.shape, y.shape"
   ]
  },
  {
   "cell_type": "code",
   "execution_count": 31,
   "id": "5cabb73c",
   "metadata": {},
   "outputs": [
    {
     "name": "stdout",
     "output_type": "stream",
     "text": [
      "tensor(51.6667, grad_fn=<MseLossBackward0>)\n"
     ]
    }
   ],
   "source": [
    "loss = F.mse_loss(torch.ones_like(y), y)\n",
    "print(loss)"
   ]
  },
  {
   "cell_type": "code",
   "execution_count": 32,
   "id": "de65d7dc",
   "metadata": {},
   "outputs": [],
   "source": [
    "dloss_dw = torch.autograd.grad(loss, [w], retain_graph=True)\n",
    "dloss_db = torch.autograd.grad(loss, [b], retain_graph=True)"
   ]
  },
  {
   "cell_type": "code",
   "execution_count": 33,
   "id": "effe901f",
   "metadata": {},
   "outputs": [
    {
     "data": {
      "text/plain": [
       "((tensor([30.6667, 72.6667]),), (tensor([14.]),))"
      ]
     },
     "execution_count": 33,
     "metadata": {},
     "output_type": "execute_result"
    }
   ],
   "source": [
    "dloss_dw, dloss_db"
   ]
  },
  {
   "cell_type": "code",
   "execution_count": 37,
   "id": "ff42b725",
   "metadata": {},
   "outputs": [
    {
     "name": "stdout",
     "output_type": "stream",
     "text": [
      "tensor([0.0159, 0.1173, 0.8668], grad_fn=<SoftmaxBackward0>)\n"
     ]
    },
    {
     "name": "stderr",
     "output_type": "stream",
     "text": [
      "C:\\Users\\26250\\AppData\\Local\\Temp/ipykernel_14896/2404635049.py:13: UserWarning: Implicit dimension choice for softmax has been deprecated. Change the call to include dim=X as an argument.\n",
      "  y_hat = F.softmax(w@x + b)\n"
     ]
    }
   ],
   "source": [
    "# loss.backward()\n",
    "\n",
    "# example 2\n",
    "# loss = (y-(wx-b))**2 -> dl/dw,dl/db\n",
    "\n",
    "x = torch.tensor([[1,2,3], \n",
    "                  [4,5,6]], dtype=torch.float32)\n",
    "w = torch.ones(2, dtype=torch.float32)\n",
    "b = torch.ones(1, dtype=torch.float32)\n",
    "\n",
    "w.requires_grad_(), b.requires_grad_()\n",
    "\n",
    "y_hat = F.softmax(w@x + b)\n",
    "\n",
    "print(y_hat)"
   ]
  },
  {
   "cell_type": "code",
   "execution_count": 41,
   "id": "65a26a8a",
   "metadata": {},
   "outputs": [
    {
     "name": "stdout",
     "output_type": "stream",
     "text": [
      "tensor([[ 3.,  6.,  9.],\n",
      "        [12., 15., 18.]])\n"
     ]
    }
   ],
   "source": [
    "y = torch.tensor([[3,6,9], \n",
    "                  [12,15,18]], dtype=torch.float32)\n",
    "\n",
    "print(y)"
   ]
  },
  {
   "cell_type": "code",
   "execution_count": 43,
   "id": "97304e5d",
   "metadata": {},
   "outputs": [
    {
     "name": "stdout",
     "output_type": "stream",
     "text": [
      "tensor(128.0533, grad_fn=<MseLossBackward0>)\n"
     ]
    },
    {
     "name": "stderr",
     "output_type": "stream",
     "text": [
      "C:\\Users\\26250\\AppData\\Local\\Temp/ipykernel_14896/3300970875.py:1: UserWarning: Using a target size (torch.Size([2, 3])) that is different to the input size (torch.Size([3])). This will likely lead to incorrect results due to broadcasting. Please ensure they have the same size.\n",
      "  loss = F.mse_loss(y_hat, y)\n"
     ]
    }
   ],
   "source": [
    "loss = F.mse_loss(y_hat, y)\n",
    "\n",
    "print(loss)"
   ]
  },
  {
   "cell_type": "code",
   "execution_count": 44,
   "id": "0fa1e26b",
   "metadata": {},
   "outputs": [],
   "source": [
    "loss.backward()"
   ]
  },
  {
   "cell_type": "code",
   "execution_count": 45,
   "id": "2535aec8",
   "metadata": {},
   "outputs": [
    {
     "data": {
      "text/plain": [
       "(tensor([-0.2506, -0.2506]), tensor([-1.4901e-08]))"
      ]
     },
     "execution_count": 45,
     "metadata": {},
     "output_type": "execute_result"
    }
   ],
   "source": [
    "w.grad, b.grad"
   ]
  }
 ],
 "metadata": {
  "kernelspec": {
   "display_name": "Python 3 (ipykernel)",
   "language": "python",
   "name": "python3"
  },
  "language_info": {
   "codemirror_mode": {
    "name": "ipython",
    "version": 3
   },
   "file_extension": ".py",
   "mimetype": "text/x-python",
   "name": "python",
   "nbconvert_exporter": "python",
   "pygments_lexer": "ipython3",
   "version": "3.9.9"
  }
 },
 "nbformat": 4,
 "nbformat_minor": 5
}
