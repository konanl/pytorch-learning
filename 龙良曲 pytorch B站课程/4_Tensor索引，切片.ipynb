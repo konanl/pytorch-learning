{
 "cells": [
  {
   "cell_type": "code",
   "execution_count": 1,
   "id": "1a8d9452",
   "metadata": {},
   "outputs": [],
   "source": [
    "import torch\n",
    "import numpy as np"
   ]
  },
  {
   "cell_type": "code",
   "execution_count": 3,
   "id": "32bd6b84",
   "metadata": {},
   "outputs": [
    {
     "name": "stdout",
     "output_type": "stream",
     "text": [
      "tensor([[[[0.0844, 0.2688, 0.6317, 0.7093, 0.3250],\n",
      "          [0.9875, 0.9902, 0.6603, 0.7068, 0.0769],\n",
      "          [0.6640, 0.7383, 0.1134, 0.1184, 0.5315],\n",
      "          [0.4727, 0.4396, 0.8889, 0.1888, 0.6718],\n",
      "          [0.5101, 0.8491, 0.7320, 0.1565, 0.8890]],\n",
      "\n",
      "         [[0.1700, 0.4932, 0.2697, 0.2675, 0.6286],\n",
      "          [0.6467, 0.2460, 0.1042, 0.7223, 0.0078],\n",
      "          [0.2350, 0.1923, 0.4914, 0.4814, 0.1622],\n",
      "          [0.0540, 0.6460, 0.4444, 0.4351, 0.4301],\n",
      "          [0.7161, 0.0819, 0.2192, 0.4439, 0.9409]]],\n",
      "\n",
      "\n",
      "        [[[0.0937, 0.6376, 0.7425, 0.4724, 0.0527],\n",
      "          [0.8662, 0.1590, 0.7765, 0.8578, 0.8867],\n",
      "          [0.7595, 0.3165, 0.8964, 0.8338, 0.8390],\n",
      "          [0.9897, 0.2785, 0.6116, 0.4312, 0.6810],\n",
      "          [0.9170, 0.2547, 0.1730, 0.7956, 0.3695]],\n",
      "\n",
      "         [[0.2855, 0.6693, 0.0091, 0.9825, 0.1015],\n",
      "          [0.0093, 0.6746, 0.7691, 0.6342, 0.8214],\n",
      "          [0.2159, 0.1439, 0.6445, 0.4142, 0.8654],\n",
      "          [0.2427, 0.7731, 0.8549, 0.3940, 0.9773],\n",
      "          [0.7277, 0.0344, 0.6788, 0.6757, 0.3804]]]])\n"
     ]
    }
   ],
   "source": [
    "# Indexing\n",
    "a = torch.rand(2,2,5,5)\n",
    "print(a)"
   ]
  },
  {
   "cell_type": "code",
   "execution_count": 4,
   "id": "dabce023",
   "metadata": {},
   "outputs": [
    {
     "data": {
      "text/plain": [
       "(torch.Size([2, 5, 5]), torch.Size([5, 5]), tensor(0.5315))"
      ]
     },
     "execution_count": 4,
     "metadata": {},
     "output_type": "execute_result"
    }
   ],
   "source": [
    "a[0].shape, a[0,0].shape, a[0, 0, 2, 4]"
   ]
  },
  {
   "cell_type": "code",
   "execution_count": 6,
   "id": "90a54b26",
   "metadata": {},
   "outputs": [
    {
     "data": {
      "text/plain": [
       "(torch.Size([2, 2, 5, 5]),\n",
       " torch.Size([1, 2, 5, 5]),\n",
       " torch.Size([1, 2, 5, 5]),\n",
       " torch.Size([2, 1, 5, 5]))"
      ]
     },
     "execution_count": 6,
     "metadata": {},
     "output_type": "execute_result"
    }
   ],
   "source": [
    "# select first/last N\n",
    "\n",
    "a.shape, a[:1].shape, a[-1:].shape, a[:2, -1:].shape"
   ]
  },
  {
   "cell_type": "code",
   "execution_count": 7,
   "id": "9cc79947",
   "metadata": {},
   "outputs": [
    {
     "data": {
      "text/plain": [
       "(torch.Size([2, 2, 3, 5]), torch.Size([2, 2, 3, 3]))"
      ]
     },
     "execution_count": 7,
     "metadata": {},
     "output_type": "execute_result"
    }
   ],
   "source": [
    "# select by steps\n",
    "\n",
    "a[:,:,0:5:2,:].shape, a[:,:,::2,::2].shape"
   ]
  },
  {
   "cell_type": "code",
   "execution_count": 14,
   "id": "7931d058",
   "metadata": {},
   "outputs": [
    {
     "data": {
      "text/plain": [
       "(torch.Size([1, 2, 5, 5]), torch.Size([2, 2, 5, 4]))"
      ]
     },
     "execution_count": 14,
     "metadata": {},
     "output_type": "execute_result"
    }
   ],
   "source": [
    "# select by specific index\n",
    "\n",
    "a.index_select(0, torch.tensor(1)).shape, a.index_select(3, torch.arange(4)).shape"
   ]
  },
  {
   "cell_type": "code",
   "execution_count": 15,
   "id": "617985d0",
   "metadata": {},
   "outputs": [
    {
     "data": {
      "text/plain": [
       "(torch.Size([2, 2, 5, 5]), torch.Size([2, 5, 5]))"
      ]
     },
     "execution_count": 15,
     "metadata": {},
     "output_type": "execute_result"
    }
   ],
   "source": [
    "# ...\n",
    "\n",
    "a.shape, a[1,...].shape"
   ]
  },
  {
   "cell_type": "code",
   "execution_count": 17,
   "id": "f92afde8",
   "metadata": {},
   "outputs": [
    {
     "name": "stdout",
     "output_type": "stream",
     "text": [
      "tensor([[[[False, False,  True,  True, False],\n",
      "          [ True,  True,  True,  True, False],\n",
      "          [ True,  True, False, False,  True],\n",
      "          [False, False,  True, False,  True],\n",
      "          [ True,  True,  True, False,  True]],\n",
      "\n",
      "         [[False, False, False, False,  True],\n",
      "          [ True, False, False,  True, False],\n",
      "          [False, False, False, False, False],\n",
      "          [False,  True, False, False, False],\n",
      "          [ True, False, False, False,  True]]],\n",
      "\n",
      "\n",
      "        [[[False,  True,  True, False, False],\n",
      "          [ True, False,  True,  True,  True],\n",
      "          [ True, False,  True,  True,  True],\n",
      "          [ True, False,  True, False,  True],\n",
      "          [ True, False, False,  True, False]],\n",
      "\n",
      "         [[False,  True, False,  True, False],\n",
      "          [False,  True,  True,  True,  True],\n",
      "          [False, False,  True, False,  True],\n",
      "          [False,  True,  True, False,  True],\n",
      "          [ True, False,  True,  True, False]]]]) torch.Size([2, 2, 5, 5])\n"
     ]
    }
   ],
   "source": [
    "# select by mask\n",
    "\n",
    "mask = a.ge(0.5)\n",
    "print(mask, mask.shape)  # print all of the number >0.5"
   ]
  },
  {
   "cell_type": "code",
   "execution_count": 19,
   "id": "89764c1b",
   "metadata": {},
   "outputs": [
    {
     "data": {
      "text/plain": [
       "(tensor([0.6317, 0.7093, 0.9875, 0.9902, 0.6603, 0.7068, 0.6640, 0.7383, 0.5315,\n",
       "         0.8889, 0.6718, 0.5101, 0.8491, 0.7320, 0.8890, 0.6286, 0.6467, 0.7223,\n",
       "         0.6460, 0.7161, 0.9409, 0.6376, 0.7425, 0.8662, 0.7765, 0.8578, 0.8867,\n",
       "         0.7595, 0.8964, 0.8338, 0.8390, 0.9897, 0.6116, 0.6810, 0.9170, 0.7956,\n",
       "         0.6693, 0.9825, 0.6746, 0.7691, 0.6342, 0.8214, 0.6445, 0.8654, 0.7731,\n",
       "         0.8549, 0.9773, 0.7277, 0.6788, 0.6757]),\n",
       " torch.Size([50]))"
      ]
     },
     "execution_count": 19,
     "metadata": {},
     "output_type": "execute_result"
    }
   ],
   "source": [
    "torch.masked_select(a, mask), torch.masked_select(a,mask).shape"
   ]
  },
  {
   "cell_type": "code",
   "execution_count": 21,
   "id": "0e81328e",
   "metadata": {},
   "outputs": [
    {
     "data": {
      "text/plain": [
       "(tensor([0.0769, 0.7068, 0.9875]), torch.Size([3]))"
      ]
     },
     "execution_count": 21,
     "metadata": {},
     "output_type": "execute_result"
    }
   ],
   "source": [
    "# select by flatten index\n",
    "\n",
    "torch.take(a, torch.tensor([9,8,5])), torch.take(a, torch.tensor([9,8,5])).shape"
   ]
  }
 ],
 "metadata": {
  "kernelspec": {
   "display_name": "Python 3 (ipykernel)",
   "language": "python",
   "name": "python3"
  },
  "language_info": {
   "codemirror_mode": {
    "name": "ipython",
    "version": 3
   },
   "file_extension": ".py",
   "mimetype": "text/x-python",
   "name": "python",
   "nbconvert_exporter": "python",
   "pygments_lexer": "ipython3",
   "version": "3.9.9"
  }
 },
 "nbformat": 4,
 "nbformat_minor": 5
}
