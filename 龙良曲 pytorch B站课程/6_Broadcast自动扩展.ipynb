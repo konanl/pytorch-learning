{
 "cells": [
  {
   "cell_type": "code",
   "execution_count": 1,
   "id": "06b4c48c",
   "metadata": {},
   "outputs": [],
   "source": [
    "import torch\n",
    "import numpy as np"
   ]
  },
  {
   "cell_type": "code",
   "execution_count": 3,
   "id": "243c2dce",
   "metadata": {},
   "outputs": [
    {
     "name": "stdout",
     "output_type": "stream",
     "text": [
      "tensor([[-1.6907, -0.7281, -0.4768],\n",
      "        [ 1.5135,  0.5332, -0.5031]])\n",
      "tensor([0.5002])\n"
     ]
    }
   ],
   "source": [
    "# case\n",
    "a = torch.randn(2,3)\n",
    "print(a)\n",
    "\n",
    "b = torch.rand(1)\n",
    "print(b)"
   ]
  },
  {
   "cell_type": "code",
   "execution_count": 4,
   "id": "4f885657",
   "metadata": {},
   "outputs": [
    {
     "data": {
      "text/plain": [
       "tensor([[-1.1906, -0.2280,  0.0234],\n",
       "        [ 2.0136,  1.0334, -0.0030]])"
      ]
     },
     "execution_count": 4,
     "metadata": {},
     "output_type": "execute_result"
    }
   ],
   "source": [
    "a+b  # is juet like broadcast"
   ]
  },
  {
   "cell_type": "code",
   "execution_count": 7,
   "id": "b16448fa",
   "metadata": {},
   "outputs": [
    {
     "name": "stdout",
     "output_type": "stream",
     "text": [
      "torch.Size([4, 32, 14, 14])\n",
      "torch.Size([1, 32, 1, 1])\n",
      "torch.Size([4, 32, 14, 14])\n"
     ]
    }
   ],
   "source": [
    "# situation 1\n",
    "\n",
    "a = torch.Tensor(4,32,14,14)\n",
    "print(a.shape)\n",
    "\n",
    "b = torch.Tensor(1,32,1,1)\n",
    "print(b.shape)\n",
    "\n",
    "print((a+b).shape)"
   ]
  },
  {
   "cell_type": "code",
   "execution_count": 8,
   "id": "85c09976",
   "metadata": {},
   "outputs": [
    {
     "name": "stdout",
     "output_type": "stream",
     "text": [
      "torch.Size([4, 32, 14, 14])\n",
      "torch.Size([14, 14])\n",
      "torch.Size([4, 32, 14, 14])\n"
     ]
    }
   ],
   "source": [
    "# situation 2\n",
    "\n",
    "print(a.shape)\n",
    "\n",
    "c = torch.Tensor(14,14)\n",
    "print(c.shape)\n",
    "\n",
    "print((a+c).shape)"
   ]
  },
  {
   "cell_type": "code",
   "execution_count": 9,
   "id": "94d70ab1",
   "metadata": {},
   "outputs": [
    {
     "name": "stdout",
     "output_type": "stream",
     "text": [
      "torch.Size([4, 32, 14, 14])\n"
     ]
    },
    {
     "ename": "RuntimeError",
     "evalue": "The size of tensor a (4) must match the size of tensor b (2) at non-singleton dimension 0",
     "output_type": "error",
     "traceback": [
      "\u001b[1;31m---------------------------------------------------------------------------\u001b[0m",
      "\u001b[1;31mRuntimeError\u001b[0m                              Traceback (most recent call last)",
      "\u001b[1;32m~\\AppData\\Local\\Temp/ipykernel_29624/1855085334.py\u001b[0m in \u001b[0;36m<module>\u001b[1;34m\u001b[0m\n\u001b[0;32m     10\u001b[0m \u001b[0md\u001b[0m \u001b[1;33m=\u001b[0m \u001b[0mtorch\u001b[0m\u001b[1;33m.\u001b[0m\u001b[0mTensor\u001b[0m\u001b[1;33m(\u001b[0m\u001b[1;36m2\u001b[0m\u001b[1;33m,\u001b[0m\u001b[1;36m32\u001b[0m\u001b[1;33m,\u001b[0m\u001b[1;36m14\u001b[0m\u001b[1;33m,\u001b[0m\u001b[1;36m14\u001b[0m\u001b[1;33m)\u001b[0m\u001b[1;33m\u001b[0m\u001b[1;33m\u001b[0m\u001b[0m\n\u001b[0;32m     11\u001b[0m \u001b[1;33m\u001b[0m\u001b[0m\n\u001b[1;32m---> 12\u001b[1;33m \u001b[1;32massert\u001b[0m \u001b[0ma\u001b[0m\u001b[1;33m+\u001b[0m\u001b[0md\u001b[0m\u001b[1;33m\u001b[0m\u001b[1;33m\u001b[0m\u001b[0m\n\u001b[0m",
      "\u001b[1;31mRuntimeError\u001b[0m: The size of tensor a (4) must match the size of tensor b (2) at non-singleton dimension 0"
     ]
    }
   ],
   "source": [
    "# situation 3\n",
    "\n",
    "# match from the last dim\n",
    "#  if a-[4,32,14,14]\n",
    "#     d-[2,32,14,14]\n",
    "#  then they can not plus\n",
    "\n",
    "print(a.shape)\n",
    "\n",
    "d = torch.Tensor(2,32,14,14)\n",
    "\n",
    "a+d"
   ]
  }
 ],
 "metadata": {
  "kernelspec": {
   "display_name": "Python 3 (ipykernel)",
   "language": "python",
   "name": "python3"
  },
  "language_info": {
   "codemirror_mode": {
    "name": "ipython",
    "version": 3
   },
   "file_extension": ".py",
   "mimetype": "text/x-python",
   "name": "python",
   "nbconvert_exporter": "python",
   "pygments_lexer": "ipython3",
   "version": "3.9.9"
  }
 },
 "nbformat": 4,
 "nbformat_minor": 5
}
