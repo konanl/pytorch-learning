{
 "cells": [
  {
   "cell_type": "code",
   "execution_count": 2,
   "id": "4779b56b",
   "metadata": {},
   "outputs": [],
   "source": [
    "import torch\n",
    "import numpy as np"
   ]
  },
  {
   "cell_type": "raw",
   "id": "00dcd3aa",
   "metadata": {},
   "source": [
    "# Merge or Split\n",
    "# cat stack/split chunk"
   ]
  },
  {
   "cell_type": "code",
   "execution_count": 3,
   "id": "1883f133",
   "metadata": {},
   "outputs": [
    {
     "data": {
      "text/plain": [
       "torch.Size([9, 32, 8])"
      ]
     },
     "execution_count": 3,
     "metadata": {},
     "output_type": "execute_result"
    }
   ],
   "source": [
    "# cat \n",
    "\n",
    "a = torch.rand(4,32,8)\n",
    "b = torch.rand(5,32,8)\n",
    "\n",
    "torch.cat([a,b], dim=0).shape"
   ]
  },
  {
   "cell_type": "code",
   "execution_count": 11,
   "id": "c6da5e92",
   "metadata": {},
   "outputs": [
    {
     "data": {
      "text/plain": [
       "torch.Size([4, 4, 32, 32])"
      ]
     },
     "execution_count": 11,
     "metadata": {},
     "output_type": "execute_result"
    }
   ],
   "source": [
    "c = torch.rand(4,1,32,32)\n",
    "d = torch.rand(4,3,32,32)\n",
    "\n",
    "torch.cat([c,d], dim=1).shape"
   ]
  },
  {
   "cell_type": "code",
   "execution_count": 13,
   "id": "a453e6fa",
   "metadata": {},
   "outputs": [
    {
     "data": {
      "text/plain": [
       "(torch.Size([8, 32, 8]), torch.Size([2, 4, 32, 8]))"
      ]
     },
     "execution_count": 13,
     "metadata": {},
     "output_type": "execute_result"
    }
   ],
   "source": [
    "# stack  create new dim\n",
    "\n",
    "torch.cat([a,a], dim=0).shape, torch.stack([a,a], dim=0).shape"
   ]
  },
  {
   "cell_type": "code",
   "execution_count": 23,
   "id": "4e1f869b",
   "metadata": {},
   "outputs": [
    {
     "name": "stdout",
     "output_type": "stream",
     "text": [
      "torch.Size([8, 32, 8])\n",
      "torch.Size([4, 32, 8]) torch.Size([4, 32, 8])\n",
      "torch.Size([2, 32, 8])\n"
     ]
    }
   ],
   "source": [
    "# split : by len\n",
    "\n",
    "x = torch.cat([a,a], dim=0)\n",
    "print(x.shape)\n",
    "\n",
    "x1, x2 = x.split(4, dim=0)\n",
    "print(x1.shape, x2.shape)\n",
    "print(torch.split(x, [2,2,2,2], dim=0)[0].shape)"
   ]
  },
  {
   "cell_type": "code",
   "execution_count": 27,
   "id": "7e2c9880",
   "metadata": {},
   "outputs": [
    {
     "data": {
      "text/plain": [
       "True"
      ]
     },
     "execution_count": 27,
     "metadata": {},
     "output_type": "execute_result"
    }
   ],
   "source": [
    "# chunk : by num\n",
    "\n",
    "x.chunk(2, dim=0)[0].shape == torch.chunk(x, 2, dim=0)[0].shape"
   ]
  },
  {
   "cell_type": "code",
   "execution_count": 28,
   "id": "8817cf87",
   "metadata": {},
   "outputs": [
    {
     "data": {
      "text/plain": [
       "2"
      ]
     },
     "execution_count": 28,
     "metadata": {},
     "output_type": "execute_result"
    }
   ],
   "source": [
    "len(x.chunk(2, dim=0))"
   ]
  },
  {
   "cell_type": "code",
   "execution_count": 29,
   "id": "4afd6909",
   "metadata": {},
   "outputs": [
    {
     "name": "stdout",
     "output_type": "stream",
     "text": [
      "torch.Size([4, 32, 8])\n",
      "torch.Size([4, 32, 8])\n"
     ]
    }
   ],
   "source": [
    "for i in range(len(x.chunk(2, dim=0))):\n",
    "    print(x.chunk(2, dim=0)[i].shape)"
   ]
  }
 ],
 "metadata": {
  "kernelspec": {
   "display_name": "Python 3 (ipykernel)",
   "language": "python",
   "name": "python3"
  },
  "language_info": {
   "codemirror_mode": {
    "name": "ipython",
    "version": 3
   },
   "file_extension": ".py",
   "mimetype": "text/x-python",
   "name": "python",
   "nbconvert_exporter": "python",
   "pygments_lexer": "ipython3",
   "version": "3.9.9"
  }
 },
 "nbformat": 4,
 "nbformat_minor": 5
}
