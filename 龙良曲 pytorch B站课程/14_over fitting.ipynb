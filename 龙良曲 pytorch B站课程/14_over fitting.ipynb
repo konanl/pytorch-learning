{
 "cells": [
  {
   "cell_type": "raw",
   "id": "51efbc5d",
   "metadata": {},
   "source": [
    "Reduce Overfitting"
   ]
  },
  {
   "cell_type": "raw",
   "id": "e6cd1c9d",
   "metadata": {},
   "source": [
    "1. More data\n",
    "2. Constraint model complexity\n",
    ".shallow\n",
    ".regularization\n",
    "3.Dropout\n",
    "4.Data argumentation\n",
    "5.Early Stopping"
   ]
  },
  {
   "cell_type": "code",
   "execution_count": 1,
   "id": "36520fab",
   "metadata": {},
   "outputs": [],
   "source": [
    "# regularization/weight decay\n",
    "# L1-regularization\n",
    "# lamda*sum(a)\n",
    "# L2-regularization\n",
    "# 1/2*lamde*a**2"
   ]
  },
  {
   "cell_type": "raw",
   "id": "c44d9974",
   "metadata": {},
   "source": [
    "L2-正则化"
   ]
  },
  {
   "cell_type": "code",
   "execution_count": 4,
   "id": "1eec1cb1",
   "metadata": {},
   "outputs": [],
   "source": [
    "import  torch\n",
    "import  torch.nn as nn\n",
    "import  torch.nn.functional as F\n",
    "import  torch.optim as optim\n",
    "from torchvision import datasets, transforms"
   ]
  },
  {
   "cell_type": "code",
   "execution_count": 5,
   "id": "44f35b9a",
   "metadata": {},
   "outputs": [],
   "source": [
    "class MLP(nn.Module):\n",
    "\n",
    "    def __init__(self):\n",
    "        super(MLP, self).__init__()\n",
    "\n",
    "        self.model = nn.Sequential(\n",
    "            nn.Linear(784, 200),\n",
    "            nn.LeakyReLU(inplace=True),\n",
    "            nn.Linear(200, 200),\n",
    "            nn.LeakyReLU(inplace=True),\n",
    "            nn.Linear(200, 10),\n",
    "            nn.LeakyReLU(inplace=True),\n",
    "        )\n",
    "\n",
    "    def forward(self, x):\n",
    "        x = self.model(x)\n",
    "\n",
    "        return x"
   ]
  },
  {
   "cell_type": "code",
   "execution_count": 6,
   "id": "831df7db",
   "metadata": {},
   "outputs": [],
   "source": [
    "net = MLP()"
   ]
  },
  {
   "cell_type": "code",
   "execution_count": 8,
   "id": "8a04fa1f",
   "metadata": {},
   "outputs": [],
   "source": [
    "# 直接在pytorch框架里使用L2范数正则化\n",
    "optimizer = optim.SGD(net.parameters(), lr=1e-3, weight_decay=0.01)\n",
    "# 这里的weight_decay指的是参数lamda"
   ]
  },
  {
   "cell_type": "raw",
   "id": "5701e869",
   "metadata": {},
   "source": [
    "L1-正则化"
   ]
  },
  {
   "cell_type": "code",
   "execution_count": 9,
   "id": "5bfc30e6",
   "metadata": {},
   "outputs": [],
   "source": [
    "regularization_loss = 0\n",
    "\n",
    "for param in net.parameters():\n",
    "    regularization_loss += torch.sum(torch.abs(param))"
   ]
  },
  {
   "cell_type": "raw",
   "id": "c826aafc",
   "metadata": {},
   "source": [
    "Learning rate decay"
   ]
  },
  {
   "cell_type": "code",
   "execution_count": 11,
   "id": "ed7d30de",
   "metadata": {},
   "outputs": [],
   "source": [
    "# scheme 1\n",
    "# optermizer = torch.optim.SGD(net.optermizer(), lr=0.001)\n",
    "\n",
    "# scheduler = torch.optim.lr_scheduler.ReduceLROnPlateau(optermizer,  'min')\n",
    "\n",
    "# for epoch in range():\n",
    "#     train()\n",
    "#     scheduler.step(loss_val)"
   ]
  },
  {
   "cell_type": "code",
   "execution_count": 13,
   "id": "f7adb873",
   "metadata": {},
   "outputs": [],
   "source": [
    "# scheme 2\n",
    "# scheduler = torch.optim.lr_scheduler.StepLR()"
   ]
  },
  {
   "cell_type": "code",
   "execution_count": null,
   "id": "950df41c",
   "metadata": {},
   "outputs": [],
   "source": []
  }
 ],
 "metadata": {
  "kernelspec": {
   "display_name": "Python 3 (ipykernel)",
   "language": "python",
   "name": "python3"
  },
  "language_info": {
   "codemirror_mode": {
    "name": "ipython",
    "version": 3
   },
   "file_extension": ".py",
   "mimetype": "text/x-python",
   "name": "python",
   "nbconvert_exporter": "python",
   "pygments_lexer": "ipython3",
   "version": "3.9.9"
  }
 },
 "nbformat": 4,
 "nbformat_minor": 5
}
