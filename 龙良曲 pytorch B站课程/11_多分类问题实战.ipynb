{
 "cells": [
  {
   "cell_type": "code",
   "execution_count": 1,
   "id": "313f87c5",
   "metadata": {},
   "outputs": [],
   "source": [
    "import torch\n",
    "import numpy as np\n",
    "from torch import nn\n",
    "import torch.nn.functional as F\n",
    "from torchvision import datasets, transforms"
   ]
  },
  {
   "cell_type": "code",
   "execution_count": 2,
   "id": "79a0d091",
   "metadata": {},
   "outputs": [],
   "source": [
    "# params\n",
    "batch_size = 256\n",
    "learning_rate = 1e-3\n",
    "epochs = 10"
   ]
  },
  {
   "cell_type": "code",
   "execution_count": 3,
   "id": "ba0913f1",
   "metadata": {},
   "outputs": [],
   "source": [
    "# transform\n",
    "trans = transforms.ToTensor()"
   ]
  },
  {
   "cell_type": "code",
   "execution_count": 4,
   "id": "92a6fad0",
   "metadata": {},
   "outputs": [],
   "source": [
    "# initialize the train and test datasets\n",
    "train_loader = torch.utils.data.DataLoader(datasets.FashionMNIST(root='data', \n",
    "                                                                 train=True, \n",
    "                                                                 transform=trans, \n",
    "                                                                 download=True), \n",
    "                                           batch_size=batch_size, \n",
    "                                           shuffle=True)\n",
    "\n",
    "test_loader = torch.utils.data.DataLoader(datasets.FashionMNIST(root='data', \n",
    "                                                                train=False, \n",
    "                                                                transform=trans, \n",
    "                                                                download=True), \n",
    "                                          batch_size=batch_size)"
   ]
  },
  {
   "cell_type": "code",
   "execution_count": 5,
   "id": "24578136",
   "metadata": {},
   "outputs": [
    {
     "data": {
      "text/plain": [
       "tensor([[ 0.1372, -0.0885,  0.0172,  ...,  0.1417, -0.0181,  0.0783],\n",
       "        [ 0.0340, -0.1043,  0.0035,  ..., -0.0964, -0.0462,  0.0486],\n",
       "        [ 0.1324,  0.0727,  0.2301,  ..., -0.0340,  0.0664, -0.0265],\n",
       "        ...,\n",
       "        [-0.0102,  0.0315,  0.1673,  ..., -0.0608, -0.1819,  0.0796],\n",
       "        [-0.0459,  0.1167,  0.0115,  ...,  0.0491, -0.0645,  0.0405],\n",
       "        [-0.1204,  0.0028, -0.1266,  ...,  0.0795, -0.0147,  0.1155]],\n",
       "       requires_grad=True)"
      ]
     },
     "execution_count": 5,
     "metadata": {},
     "output_type": "execute_result"
    }
   ],
   "source": [
    "# network set\n",
    "w1, b1 = torch.randn(200,784,requires_grad=True),\\\n",
    "        torch.zeros(200,requires_grad=True)\n",
    "w2, b2 = torch.randn(200,200,requires_grad=True),\\\n",
    "        torch.zeros(200, requires_grad=True)\n",
    "w3, b3 = torch.randn(10,200,requires_grad=True),\\\n",
    "        torch.zeros(10,requires_grad=True)\n",
    "\n",
    "# init\n",
    "torch.nn.init.kaiming_normal_(w1)\n",
    "torch.nn.init.kaiming_normal_(w2)\n",
    "torch.nn.init.kaiming_normal_(w3)"
   ]
  },
  {
   "cell_type": "code",
   "execution_count": 6,
   "id": "4219f529",
   "metadata": {},
   "outputs": [],
   "source": [
    "# forward\n",
    "def forward(x):\n",
    "    x = x@w1.T + b1\n",
    "    x = F.relu(x)\n",
    "    \n",
    "    x = x@w2.T + b2\n",
    "    x = F.relu(x)\n",
    "    \n",
    "    x = x@w3.T + b3\n",
    "    x = F.softmax(x)\n",
    "    return x"
   ]
  },
  {
   "cell_type": "code",
   "execution_count": 8,
   "id": "68b7feae",
   "metadata": {},
   "outputs": [],
   "source": [
    "# optimizer\n",
    "optimizer = torch.optim.SGD([w1,w2,w3,b1,b2,b3], lr=learning_rate)\n",
    "\n",
    "# loss function\n",
    "loss_fn = nn.CrossEntropyLoss()"
   ]
  },
  {
   "cell_type": "code",
   "execution_count": 14,
   "id": "7cf3cabd",
   "metadata": {},
   "outputs": [
    {
     "name": "stderr",
     "output_type": "stream",
     "text": [
      "C:\\Users\\26250\\AppData\\Local\\Temp/ipykernel_14920/2866170835.py:10: UserWarning: Implicit dimension choice for softmax has been deprecated. Change the call to include dim=X as an argument.\n",
      "  x = F.softmax(x)\n"
     ]
    },
    {
     "name": "stdout",
     "output_type": "stream",
     "text": [
      "Train Epoch: 0 [0/60000 (0%)]\tLoss: 2.289007\n",
      "Train Epoch: 0 [25600/60000 (43%)]\tLoss: 2.283295\n",
      "Train Epoch: 0 [51200/60000 (85%)]\tLoss: 2.277774\n",
      "\n",
      "Test set: Average loss: 0.0091, Accuracy: 2270/10000 (23%)\n",
      "\n",
      "Train Epoch: 1 [0/60000 (0%)]\tLoss: 2.273787\n",
      "Train Epoch: 1 [25600/60000 (43%)]\tLoss: 2.275539\n",
      "Train Epoch: 1 [51200/60000 (85%)]\tLoss: 2.257377\n",
      "\n",
      "Test set: Average loss: 0.0090, Accuracy: 2623/10000 (26%)\n",
      "\n",
      "Train Epoch: 2 [0/60000 (0%)]\tLoss: 2.245956\n",
      "Train Epoch: 2 [25600/60000 (43%)]\tLoss: 2.238339\n",
      "Train Epoch: 2 [51200/60000 (85%)]\tLoss: 2.235384\n",
      "\n",
      "Test set: Average loss: 0.0090, Accuracy: 2850/10000 (28%)\n",
      "\n",
      "Train Epoch: 3 [0/60000 (0%)]\tLoss: 2.241912\n",
      "Train Epoch: 3 [25600/60000 (43%)]\tLoss: 2.234566\n",
      "Train Epoch: 3 [51200/60000 (85%)]\tLoss: 2.219662\n",
      "\n",
      "Test set: Average loss: 0.0089, Accuracy: 3091/10000 (31%)\n",
      "\n",
      "Train Epoch: 4 [0/60000 (0%)]\tLoss: 2.227649\n",
      "Train Epoch: 4 [25600/60000 (43%)]\tLoss: 2.197665\n",
      "Train Epoch: 4 [51200/60000 (85%)]\tLoss: 2.211756\n",
      "\n",
      "Test set: Average loss: 0.0088, Accuracy: 3362/10000 (34%)\n",
      "\n",
      "Train Epoch: 5 [0/60000 (0%)]\tLoss: 2.193559\n",
      "Train Epoch: 5 [25600/60000 (43%)]\tLoss: 2.174000\n",
      "Train Epoch: 5 [51200/60000 (85%)]\tLoss: 2.190918\n",
      "\n",
      "Test set: Average loss: 0.0088, Accuracy: 3611/10000 (36%)\n",
      "\n",
      "Train Epoch: 6 [0/60000 (0%)]\tLoss: 2.207019\n",
      "Train Epoch: 6 [25600/60000 (43%)]\tLoss: 2.173009\n",
      "Train Epoch: 6 [51200/60000 (85%)]\tLoss: 2.167143\n",
      "\n",
      "Test set: Average loss: 0.0087, Accuracy: 3826/10000 (38%)\n",
      "\n",
      "Train Epoch: 7 [0/60000 (0%)]\tLoss: 2.157806\n",
      "Train Epoch: 7 [25600/60000 (43%)]\tLoss: 2.162929\n",
      "Train Epoch: 7 [51200/60000 (85%)]\tLoss: 2.161866\n",
      "\n",
      "Test set: Average loss: 0.0086, Accuracy: 4052/10000 (41%)\n",
      "\n",
      "Train Epoch: 8 [0/60000 (0%)]\tLoss: 2.153799\n",
      "Train Epoch: 8 [25600/60000 (43%)]\tLoss: 2.151355\n",
      "Train Epoch: 8 [51200/60000 (85%)]\tLoss: 2.161258\n",
      "\n",
      "Test set: Average loss: 0.0086, Accuracy: 4189/10000 (42%)\n",
      "\n",
      "Train Epoch: 9 [0/60000 (0%)]\tLoss: 2.172047\n",
      "Train Epoch: 9 [25600/60000 (43%)]\tLoss: 2.128242\n",
      "Train Epoch: 9 [51200/60000 (85%)]\tLoss: 2.110422\n",
      "\n",
      "Test set: Average loss: 0.0085, Accuracy: 4290/10000 (43%)\n",
      "\n"
     ]
    }
   ],
   "source": [
    "# training\n",
    "for epoch in range(epochs):\n",
    "    # forward\n",
    "    for batch_idx, (data, target) in enumerate(train_loader):\n",
    "        data = data.reshape(-1, 28*28)\n",
    "        y_hat = forward(data)\n",
    "        \n",
    "        loss = loss_fn(y_hat, target)\n",
    "        # backward\n",
    "        optimizer.zero_grad()\n",
    "        loss.backward()\n",
    "        optimizer.step()\n",
    "        \n",
    "        if batch_idx%100 == 0:\n",
    "            print('Train Epoch: {} [{}/{} ({:.0f}%)]\\tLoss: {:.6f}'.format(\n",
    "                epoch, batch_idx * len(data), len(train_loader.dataset),\n",
    "                       100. * batch_idx / len(train_loader), loss.item()))\n",
    "    \n",
    "    # test\n",
    "    test_loss = 0\n",
    "    correct = 0\n",
    "    \n",
    "    for data, target in test_loader:\n",
    "        data = data.reshape(-1,28*28)\n",
    "        \n",
    "        logits = forward(data)\n",
    "        test_loss += loss_fn(logits, target).item()\n",
    "        \n",
    "        pred = logits.data.max(1)[1]\n",
    "        correct += pred.eq(target.data).sum()\n",
    "    \n",
    "    test_loss /= len(test_loader.dataset)\n",
    "    \n",
    "    print('\\nTest set: Average loss: {:.4f}, Accuracy: {}/{} ({:.0f}%)\\n'.format(\n",
    "    test_loss, correct, len(test_loader.dataset),\n",
    "    100. * correct / len(test_loader.dataset)))"
   ]
  }
 ],
 "metadata": {
  "kernelspec": {
   "display_name": "Python 3 (ipykernel)",
   "language": "python",
   "name": "python3"
  },
  "language_info": {
   "codemirror_mode": {
    "name": "ipython",
    "version": 3
   },
   "file_extension": ".py",
   "mimetype": "text/x-python",
   "name": "python",
   "nbconvert_exporter": "python",
   "pygments_lexer": "ipython3",
   "version": "3.9.9"
  }
 },
 "nbformat": 4,
 "nbformat_minor": 5
}
