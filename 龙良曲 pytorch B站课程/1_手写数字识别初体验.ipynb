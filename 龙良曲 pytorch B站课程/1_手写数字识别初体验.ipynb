{
 "cells": [
  {
   "cell_type": "code",
   "execution_count": 2,
   "id": "4540e8b9",
   "metadata": {},
   "outputs": [],
   "source": [
    "import torch \n",
    "from torch import nn\n",
    "from torch.nn import functional as F\n",
    "from torch import optim"
   ]
  },
  {
   "cell_type": "code",
   "execution_count": 3,
   "id": "e4f06827",
   "metadata": {},
   "outputs": [],
   "source": [
    "import torchvision\n",
    "from matplotlib import pyplot as plt"
   ]
  },
  {
   "cell_type": "code",
   "execution_count": 7,
   "id": "c130aed6",
   "metadata": {},
   "outputs": [],
   "source": [
    "# step 1. load dataset\n",
    "\n",
    "trans = torchvision.transforms.ToTensor()\n",
    "batch_size = 256\n",
    "\n",
    "train_loader = torch.utils.data.DataLoader(torchvision.datasets.FashionMNIST(root='data', \n",
    "                                                                             train=True, \n",
    "                                                                             transform=trans, \n",
    "                                                                             download=True), \n",
    "                                           batch_size=batch_size, \n",
    "                                           shuffle=True)\n",
    "\n",
    "test_loader = torch.utils.data.DataLoader(torchvision.datasets.FashionMNIST(root='data', \n",
    "                                                                            train=False, \n",
    "                                                                            transform=trans, \n",
    "                                                                            download=True), \n",
    "                                          batch_size=batch_size, \n",
    "                                          shuffle=False)"
   ]
  },
  {
   "cell_type": "code",
   "execution_count": 8,
   "id": "0f77bfbd",
   "metadata": {},
   "outputs": [],
   "source": [
    "# plot image\n",
    "def plot_image(img, label, name):\n",
    "\n",
    "    fig = plt.figure()\n",
    "    for i in range(6):\n",
    "        plt.subplot(2, 3, i + 1)\n",
    "        plt.tight_layout()\n",
    "        plt.imshow(img[i][0]*0.3081+0.1307, cmap='gray', interpolation='none')\n",
    "        plt.title(\"{}: {}\".format(name, label[i].item()))\n",
    "        plt.xticks([])\n",
    "        plt.yticks([])\n",
    "    plt.show()"
   ]
  },
  {
   "cell_type": "code",
   "execution_count": 10,
   "id": "bc44ab96",
   "metadata": {},
   "outputs": [
    {
     "name": "stdout",
     "output_type": "stream",
     "text": [
      "torch.Size([256, 1, 28, 28]) torch.Size([256]) tensor(0.) tensor(1.)\n"
     ]
    },
    {
     "data": {
      "image/png": "[encoded data removed]",
      "text/plain": [
       "<Figure size 432x288 with 6 Axes>"
      ]
     },
     "metadata": {},
     "output_type": "display_data"
    }
   ],
   "source": [
    "x, y = next(iter(train_loader))\n",
    "print(x.shape, y.shape, x.min(), x.max())\n",
    "plot_image(x, y, 'image sample')"
   ]
  },
  {
   "cell_type": "code",
   "execution_count": 11,
   "id": "40c04c8a",
   "metadata": {},
   "outputs": [],
   "source": [
    "class Net(nn.Module):\n",
    "    def __init__(self):\n",
    "        super(Net, self).__init__()\n",
    "        \n",
    "        self.fc1 = nn.Linear(28*28, 256)\n",
    "        self.fc2 = nn.Linear(256, 64)\n",
    "        self.fc3 = nn.Linear(64, 10)\n",
    "    \n",
    "    def forward(self, x):\n",
    "        x = F.relu(self.fc1(x))\n",
    "        x = F.relu(self.fc2(x))\n",
    "        x = F.softmax(self.fc3(x))\n",
    "        \n",
    "        return x"
   ]
  },
  {
   "cell_type": "code",
   "execution_count": 12,
   "id": "274505d7",
   "metadata": {},
   "outputs": [
    {
     "data": {
      "text/plain": [
       "Net(\n",
       "  (fc1): Linear(in_features=784, out_features=256, bias=True)\n",
       "  (fc2): Linear(in_features=256, out_features=64, bias=True)\n",
       "  (fc3): Linear(in_features=64, out_features=10, bias=True)\n",
       ")"
      ]
     },
     "execution_count": 12,
     "metadata": {},
     "output_type": "execute_result"
    }
   ],
   "source": [
    "net = Net()\n",
    "\n",
    "net"
   ]
  },
  {
   "cell_type": "code",
   "execution_count": 13,
   "id": "f925d89b",
   "metadata": {},
   "outputs": [],
   "source": [
    "optimizer = optim.SGD(net.parameters(), lr=0.01, momentum=0.9)"
   ]
  },
  {
   "cell_type": "code",
   "execution_count": 14,
   "id": "dbe194bd",
   "metadata": {},
   "outputs": [],
   "source": [
    "train_loss = []"
   ]
  },
  {
   "cell_type": "code",
   "execution_count": 15,
   "id": "bf8b0d7b",
   "metadata": {},
   "outputs": [],
   "source": [
    "def one_hot(label, depth=10):\n",
    "    out = torch.zeros(label.size(0), depth)\n",
    "    idx = torch.LongTensor(label).view(-1, 1)\n",
    "    out.scatter_(dim=1, index=idx, value=1)\n",
    "    return out"
   ]
  },
  {
   "cell_type": "code",
   "execution_count": null,
   "id": "193c9e32",
   "metadata": {},
   "outputs": [],
   "source": [
    "# scatter_(input, dim, index, src)：将src中数据根据index中的索引按照dim的方向填进input。\n",
    "# 可以理解成放置元素或者修改元素     "
   ]
  },
  {
   "cell_type": "code",
   "execution_count": 17,
   "id": "cdd7e193",
   "metadata": {
    "scrolled": false
   },
   "outputs": [
    {
     "name": "stderr",
     "output_type": "stream",
     "text": [
      "C:\\Users\\26250\\AppData\\Local\\Temp/ipykernel_23032/1752387508.py:12: UserWarning: Implicit dimension choice for softmax has been deprecated. Change the call to include dim=X as an argument.\n",
      "  x = F.softmax(self.fc3(x))\n"
     ]
    },
    {
     "name": "stdout",
     "output_type": "stream",
     "text": [
      "0 0 0.08988836407661438\n",
      "0 10 0.09002567827701569\n",
      "0 20 0.08986802399158478\n",
      "0 30 0.0898667573928833\n",
      "0 40 0.08980410546064377\n",
      "0 50 0.08987268805503845\n",
      "0 60 0.08966003358364105\n",
      "0 70 0.0897974893450737\n",
      "0 80 0.08957622200250626\n",
      "0 90 0.08960474282503128\n",
      "0 100 0.08939582109451294\n",
      "0 110 0.0893915444612503\n",
      "0 120 0.08955593407154083\n",
      "0 130 0.089217409491539\n",
      "0 140 0.0893937349319458\n",
      "0 150 0.08931158483028412\n",
      "0 160 0.08924213796854019\n",
      "0 170 0.08923034369945526\n",
      "0 180 0.0891108512878418\n",
      "0 190 0.08903823792934418\n",
      "0 200 0.08916310220956802\n",
      "0 210 0.08914197236299515\n",
      "0 220 0.08902491629123688\n",
      "0 230 0.0889497846364975\n",
      "1 0 0.08899464458227158\n",
      "1 10 0.08896957337856293\n",
      "1 20 0.08890406042337418\n",
      "1 30 0.0887964591383934\n",
      "1 40 0.08865301311016083\n",
      "1 50 0.08886242657899857\n",
      "1 60 0.08863136917352676\n",
      "1 70 0.08883901685476303\n",
      "1 80 0.08843016624450684\n",
      "1 90 0.08860398828983307\n",
      "1 100 0.0884704738855362\n",
      "1 110 0.08849355578422546\n",
      "1 120 0.08857565373182297\n",
      "1 130 0.08813988417387009\n",
      "1 140 0.0882028266787529\n",
      "1 150 0.08834226429462433\n",
      "1 160 0.08815059810876846\n",
      "1 170 0.08822598308324814\n",
      "1 180 0.08826650679111481\n",
      "1 190 0.08811089396476746\n",
      "1 200 0.08802686631679535\n",
      "1 210 0.08764450997114182\n",
      "1 220 0.08764956891536713\n",
      "1 230 0.08786813169717789\n",
      "2 0 0.08746632188558578\n",
      "2 10 0.08752338588237762\n",
      "2 20 0.08725754916667938\n",
      "2 30 0.08760673552751541\n",
      "2 40 0.08758831024169922\n",
      "2 50 0.08703867346048355\n",
      "2 60 0.08732055127620697\n",
      "2 70 0.08717600256204605\n",
      "2 80 0.08693314343690872\n",
      "2 90 0.08704527467489243\n",
      "2 100 0.08674414455890656\n",
      "2 110 0.08639903366565704\n",
      "2 120 0.08716145157814026\n",
      "2 130 0.08618365228176117\n",
      "2 140 0.0866900384426117\n",
      "2 150 0.08572341501712799\n",
      "2 160 0.08602545410394669\n",
      "2 170 0.08599488437175751\n",
      "2 180 0.08597278594970703\n",
      "2 190 0.0854949951171875\n",
      "2 200 0.08522945642471313\n",
      "2 210 0.08552663773298264\n",
      "2 220 0.08525644242763519\n",
      "2 230 0.08475850522518158\n"
     ]
    }
   ],
   "source": [
    "for epoch in range(3):\n",
    "    for batch_idx, (x, y) in enumerate(train_loader):\n",
    "        x = x.view(x.size(0), 28*28)\n",
    "        out = net(x)\n",
    "        y_onehot = one_hot(y)\n",
    "        \n",
    "        loss = F.mse_loss(out, y_onehot)\n",
    "        \n",
    "        optimizer.zero_grad()\n",
    "        loss.backward()\n",
    "        \n",
    "        optimizer.step()\n",
    "        \n",
    "        train_loss.append(loss.item())\n",
    "        \n",
    "        if batch_idx % 10 == 0:\n",
    "            print(epoch, batch_idx, loss.item())\n",
    "            \n"
   ]
  },
  {
   "cell_type": "code",
   "execution_count": 18,
   "id": "3d8db6ae",
   "metadata": {},
   "outputs": [],
   "source": [
    "def plot_curve(data):\n",
    "    fig = plt.figure()\n",
    "    plt.plot(range(len(data)), data, color='blue')\n",
    "    plt.legend(['value'], loc='upper right')\n",
    "    plt.xlabel('step')\n",
    "    plt.ylabel('value')\n",
    "    plt.show()"
   ]
  },
  {
   "cell_type": "code",
   "execution_count": 20,
   "id": "89dba245",
   "metadata": {},
   "outputs": [
    {
     "data": {
      "image/png": "[encoded data removed]",
      "text/plain": [
       "<Figure size 432x288 with 1 Axes>"
      ]
     },
     "metadata": {
      "needs_background": "light"
     },
     "output_type": "display_data"
    }
   ],
   "source": [
    "plot_curve(train_loss)"
   ]
  },
  {
   "cell_type": "code",
   "execution_count": 21,
   "id": "b305861f",
   "metadata": {},
   "outputs": [
    {
     "name": "stderr",
     "output_type": "stream",
     "text": [
      "C:\\Users\\26250\\AppData\\Local\\Temp/ipykernel_23032/1752387508.py:12: UserWarning: Implicit dimension choice for softmax has been deprecated. Change the call to include dim=X as an argument.\n",
      "  x = F.softmax(self.fc3(x))\n"
     ]
    }
   ],
   "source": [
    "total_correct = 0\n",
    "\n",
    "for x,y in test_loader:\n",
    "    x  = x.view(x.size(0), 28*28)\n",
    "    out = net(x)\n",
    "    # out: [b, 10] => pred: [b]\n",
    "    pred = out.argmax(dim=1)\n",
    "    correct = pred.eq(y).sum().float().item()\n",
    "    total_correct += correct"
   ]
  },
  {
   "cell_type": "code",
   "execution_count": 22,
   "id": "d358d211",
   "metadata": {},
   "outputs": [
    {
     "name": "stdout",
     "output_type": "stream",
     "text": [
      "test acc: 0.3368\n"
     ]
    }
   ],
   "source": [
    "total_num = len(test_loader.dataset)\n",
    "acc = total_correct / total_num\n",
    "print('test acc:', acc)"
   ]
  },
  {
   "cell_type": "code",
   "execution_count": 23,
   "id": "dd63c656",
   "metadata": {},
   "outputs": [
    {
     "name": "stderr",
     "output_type": "stream",
     "text": [
      "C:\\Users\\26250\\AppData\\Local\\Temp/ipykernel_23032/1752387508.py:12: UserWarning: Implicit dimension choice for softmax has been deprecated. Change the call to include dim=X as an argument.\n",
      "  x = F.softmax(self.fc3(x))\n"
     ]
    },
    {
     "data": {
      "image/png": "[encoded data removed]",
      "text/plain": [
       "<Figure size 432x288 with 6 Axes>"
      ]
     },
     "metadata": {},
     "output_type": "display_data"
    }
   ],
   "source": [
    "x, y = next(iter(test_loader))\n",
    "out = net(x.view(x.size(0), 28*28))\n",
    "pred = out.argmax(dim=1)\n",
    "plot_image(x, pred, 'test')"
   ]
  }
 ],
 "metadata": {
  "kernelspec": {
   "display_name": "Python 3 (ipykernel)",
   "language": "python",
   "name": "python3"
  },
  "language_info": {
   "codemirror_mode": {
    "name": "ipython",
    "version": 3
   },
   "file_extension": ".py",
   "mimetype": "text/x-python",
   "name": "python",
   "nbconvert_exporter": "python",
   "pygments_lexer": "ipython3",
   "version": "3.9.9"
  }
 },
 "nbformat": 4,
 "nbformat_minor": 5
}
