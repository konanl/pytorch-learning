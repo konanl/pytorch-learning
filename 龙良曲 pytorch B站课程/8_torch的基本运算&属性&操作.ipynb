{
 "cells": [
  {
   "cell_type": "code",
   "execution_count": 2,
   "id": "d9dc859f",
   "metadata": {},
   "outputs": [],
   "source": [
    "import torch\n",
    "import numpy as np"
   ]
  },
  {
   "cell_type": "raw",
   "id": "7ef811c7",
   "metadata": {},
   "source": [
    "基本运算"
   ]
  },
  {
   "cell_type": "code",
   "execution_count": 3,
   "id": "2ab3591c",
   "metadata": {},
   "outputs": [
    {
     "name": "stdout",
     "output_type": "stream",
     "text": [
      "tensor(True)\n",
      "tensor(True)\n",
      "tensor(True)\n",
      "tensor(True)\n"
     ]
    }
   ],
   "source": [
    "# + - * /\n",
    "a = torch.rand(2,3)\n",
    "b = torch.rand(2,3)\n",
    "\n",
    "print(torch.all(torch.eq(a+b, torch.add(a,b))))\n",
    "print(torch.all(torch.eq(a-b, torch.sub(a,b))))\n",
    "print(torch.all(torch.eq(a*b, torch.mul(a,b))))\n",
    "print(torch.all(torch.eq(a/b, torch.div(a,b))))"
   ]
  },
  {
   "cell_type": "code",
   "execution_count": 7,
   "id": "5fe37406",
   "metadata": {},
   "outputs": [
    {
     "name": "stdout",
     "output_type": "stream",
     "text": [
      "tensor(True)\n",
      "tensor(True)\n"
     ]
    }
   ],
   "source": [
    "# matmul  矩阵相乘\n",
    "# torch.mm - only for 2D\n",
    "# torch.matmul\n",
    "# @\n",
    "\n",
    "print(torch.all(torch.eq(a@b.T, torch.mm(a,b.T))))\n",
    "print(torch.all(torch.eq(a@b.T, torch.matmul(a,b.T))))"
   ]
  },
  {
   "cell_type": "code",
   "execution_count": 9,
   "id": "6a57abbb",
   "metadata": {},
   "outputs": [
    {
     "data": {
      "text/plain": [
       "torch.Size([4, 3, 32, 32])"
      ]
     },
     "execution_count": 9,
     "metadata": {},
     "output_type": "execute_result"
    }
   ],
   "source": [
    "# >2D tensor matmul\n",
    "\n",
    "a = torch.Tensor(4,3,32,64)\n",
    "b = torch.Tensor(4,1,64,32)\n",
    "\n",
    "(a@b).shape"
   ]
  },
  {
   "cell_type": "code",
   "execution_count": 13,
   "id": "01f76664",
   "metadata": {},
   "outputs": [
    {
     "name": "stdout",
     "output_type": "stream",
     "text": [
      "tensor(True)\n",
      "tensor(True)\n"
     ]
    }
   ],
   "source": [
    "# power 次方\n",
    "x = torch.full([2,2], 3)\n",
    "\n",
    "print(torch.all(torch.eq(x**2, torch.pow(x,2))))\n",
    "print(torch.all(torch.eq(x**3, x.pow(3))))"
   ]
  },
  {
   "cell_type": "code",
   "execution_count": 15,
   "id": "ccd9a958",
   "metadata": {},
   "outputs": [
    {
     "name": "stdout",
     "output_type": "stream",
     "text": [
      "tensor([[2.7183, 2.7183],\n",
      "        [2.7183, 2.7183]])\n",
      "tensor([[1., 1.],\n",
      "        [1., 1.]])\n"
     ]
    }
   ],
   "source": [
    "# exp log(默认以e为底)\n",
    "\n",
    "a = torch.exp(torch.ones(2,2))\n",
    "print(a)\n",
    "\n",
    "print(torch.log(a))"
   ]
  },
  {
   "cell_type": "code",
   "execution_count": 18,
   "id": "f3c0ad97",
   "metadata": {},
   "outputs": [
    {
     "data": {
      "text/plain": [
       "(tensor(3.), tensor(4.), tensor(3.), tensor(3.), tensor(0.1400))"
      ]
     },
     "execution_count": 18,
     "metadata": {},
     "output_type": "execute_result"
    }
   ],
   "source": [
    "# Approximation\n",
    "# .floor() .ceil() .round() .trunc() .frac()\n",
    "\n",
    "a = torch.tensor(3.14)\n",
    "\n",
    "a.floor(), a.ceil(), a.round(), a.trunc(), a.frac()"
   ]
  },
  {
   "cell_type": "code",
   "execution_count": 24,
   "id": "594cb49f",
   "metadata": {},
   "outputs": [
    {
     "name": "stdout",
     "output_type": "stream",
     "text": [
      "tensor([[ 8.9766, 14.3457, 10.7882],\n",
      "        [ 7.6952, 10.0894,  8.0403]])\n",
      "tensor([[10.0000, 14.3457, 10.7882],\n",
      "        [10.0000, 10.0894, 10.0000]]) \n",
      " tensor([[ 8.9766, 10.0000, 10.0000],\n",
      "        [ 7.6952, 10.0000,  8.0403]])\n"
     ]
    }
   ],
   "source": [
    "# clamp \n",
    "# gradient clipping\n",
    "\n",
    "grad = torch.rand(2,3)*15\n",
    "print(grad)\n",
    "\n",
    "print(grad.clamp(10), '\\n', torch.clamp(grad, 0, 10))"
   ]
  },
  {
   "cell_type": "raw",
   "id": "49da7356",
   "metadata": {},
   "source": [
    "统计属性"
   ]
  },
  {
   "cell_type": "code",
   "execution_count": 38,
   "id": "97f2fa4c",
   "metadata": {},
   "outputs": [
    {
     "name": "stdout",
     "output_type": "stream",
     "text": [
      "tensor([[1., 1., 1.],\n",
      "        [1., 1., 1.]]) torch.Size([2, 3])\n",
      "tensor(6.) tensor([2., 2., 2.]) tensor([1.4142, 1.4142, 1.4142])\n"
     ]
    }
   ],
   "source": [
    "# statistics\n",
    "# norm mean/sum prod  max/min/argmin/argmax kthvalue/topk\n",
    "\n",
    "# norm\n",
    "# is not normalize\n",
    "# matrix norm v.s. vector norm\n",
    "\n",
    "a = torch.full([2,3], 1, dtype=torch.float32)\n",
    "print(a,a.shape)\n",
    "\n",
    "print(a.norm(1), a.norm(1, dim=0), torch.norm(a, 2, dim=0))"
   ]
  },
  {
   "cell_type": "code",
   "execution_count": 45,
   "id": "4a3354bd",
   "metadata": {},
   "outputs": [
    {
     "name": "stdout",
     "output_type": "stream",
     "text": [
      "tensor([[0., 1., 2., 3., 4.],\n",
      "        [5., 6., 7., 8., 9.]])\n",
      "tensor(4.5000) tensor(45.) tensor(0.) tensor(9.) tensor(0.) tensor(9) tensor(0)\n",
      "dim 1:  tensor([2.5000, 3.5000, 4.5000, 5.5000, 6.5000]) tensor([ 5.,  7.,  9., 11., 13.]) tensor([ 0.,  6., 14., 24., 36.]) torch.return_types.max(\n",
      "values=tensor([5., 6., 7., 8., 9.]),\n",
      "indices=tensor([1, 1, 1, 1, 1])) torch.return_types.min(\n",
      "values=tensor([0., 1., 2., 3., 4.]),\n",
      "indices=tensor([0, 0, 0, 0, 0]))\n",
      "dim 2:  tensor([2., 7.]) tensor([10., 35.]) tensor([    0., 15120.]) torch.return_types.max(\n",
      "values=tensor([4., 9.]),\n",
      "indices=tensor([4, 4])) torch.return_types.min(\n",
      "values=tensor([0., 5.]),\n",
      "indices=tensor([0, 0]))\n"
     ]
    }
   ],
   "source": [
    "# mean/sum prod  max/min/argmin/argmax\n",
    "\n",
    "a = torch.arange(10).reshape(2,5).float()\n",
    "print(a)\n",
    "\n",
    "print(a.mean(), a.sum(), a.prod(), a.max(), a.min(), a.argmax(), a.argmin())\n",
    "\n",
    "print('dim 1: ', a.mean(0), a.sum(0), a.prod(0), a.max(0), a.min(0))\n",
    "print('dim 2: ', a.mean(1), a.sum(1), a.prod(1), a.max(1), a.min(1))"
   ]
  },
  {
   "cell_type": "code",
   "execution_count": 49,
   "id": "a00751aa",
   "metadata": {},
   "outputs": [
    {
     "data": {
      "text/plain": [
       "(tensor([1, 1, 1, 1, 1]), tensor([0, 0, 0, 0, 0]))"
      ]
     },
     "execution_count": 49,
     "metadata": {},
     "output_type": "execute_result"
    }
   ],
   "source": [
    "a.argmax(0), a.argmin(0)  # 返回的是索引号"
   ]
  },
  {
   "cell_type": "code",
   "execution_count": 51,
   "id": "6cf7db2a",
   "metadata": {},
   "outputs": [
    {
     "data": {
      "text/plain": [
       "(tensor([[4],\n",
       "         [4]]),\n",
       " torch.Size([2]),\n",
       " torch.Size([2, 1]))"
      ]
     },
     "execution_count": 51,
     "metadata": {},
     "output_type": "execute_result"
    }
   ],
   "source": [
    "# dim keepdim\n",
    "\n",
    "a.argmax(1, keepdim=True), a.argmax(1).shape, a.argmax(1, keepdim=True).shape"
   ]
  },
  {
   "cell_type": "code",
   "execution_count": 5,
   "id": "a9a37b61",
   "metadata": {},
   "outputs": [
    {
     "name": "stdout",
     "output_type": "stream",
     "text": [
      "torch.return_types.topk(\n",
      "values=tensor([[0.2897, 0.1929, 0.0727],\n",
      "        [0.8875, 0.4714, 0.3232]]),\n",
      "indices=tensor([[0, 2, 1],\n",
      "        [2, 0, 1]]))\n",
      "torch.return_types.topk(\n",
      "values=tensor([[0.0727, 0.1929, 0.2897],\n",
      "        [0.3232, 0.4714, 0.8875]]),\n",
      "indices=tensor([[1, 2, 0],\n",
      "        [1, 0, 2]]))\n",
      "torch.return_types.kthvalue(\n",
      "values=tensor([0.1929, 0.4714]),\n",
      "indices=tensor([2, 0]))\n"
     ]
    }
   ],
   "source": [
    "# top-k and k-th\n",
    "\n",
    "b = torch.rand(2,3)\n",
    "\n",
    "print(b.topk(3, dim=1))\n",
    "print(b.topk(3, dim=1, largest=False))\n",
    "\n",
    "print(b.kthvalue(2, dim=1))"
   ]
  },
  {
   "cell_type": "code",
   "execution_count": 6,
   "id": "0f84f4cf",
   "metadata": {},
   "outputs": [],
   "source": [
    "# compare \n",
    "# > < ==  !=\n",
    "# torch.eq()/torch.equal()"
   ]
  },
  {
   "cell_type": "raw",
   "id": "c7fa58ec",
   "metadata": {},
   "source": [
    "高阶OP"
   ]
  },
  {
   "cell_type": "code",
   "execution_count": 8,
   "id": "979659d2",
   "metadata": {},
   "outputs": [
    {
     "data": {
      "text/plain": [
       "tensor([[0., 1., 0.],\n",
       "        [1., 0., 1.]])"
      ]
     },
     "execution_count": 8,
     "metadata": {},
     "output_type": "execute_result"
    }
   ],
   "source": [
    "# where gather\n",
    "\n",
    "# where torch.where(condition, x, y)\n",
    "a = torch.ones(2,3)\n",
    "b = torch.zeros(2,3)\n",
    "\n",
    "cond = torch.tensor([[0.2, 0.6, 0.1], [0.8, 0.3, 0.7]])\n",
    "\n",
    "torch.where(cond>0.5, a, b)"
   ]
  },
  {
   "cell_type": "code",
   "execution_count": 9,
   "id": "035ae14c",
   "metadata": {},
   "outputs": [
    {
     "data": {
      "text/plain": [
       "tensor([[1, 1],\n",
       "        [4, 3]])"
      ]
     },
     "execution_count": 9,
     "metadata": {},
     "output_type": "execute_result"
    }
   ],
   "source": [
    "# gather torch.gather(input, dim, index, out=None) ->Tensor\n",
    "\n",
    "# out[i][j][k] = input[index[i][j][k]][j][k]  # if dim == 0\n",
    "# out[i][j][k] = input[i][index[i][j][k]][k]  # if dim == 1\n",
    "# out[i][j][k] = input[i][j][index[i][j][k]]  # if dim == 2\n",
    "# https://pytorch.org/docs/stable/generated/torch.gather.html?highlight=torch%20gather#torch.gather\n",
    "\n",
    "t = torch.tensor([[1, 2], [3, 4]])\n",
    "torch.gather(t, 1, torch.tensor([[0, 0], [1, 0]]))"
   ]
  }
 ],
 "metadata": {
  "kernelspec": {
   "display_name": "Python 3 (ipykernel)",
   "language": "python",
   "name": "python3"
  },
  "language_info": {
   "codemirror_mode": {
    "name": "ipython",
    "version": 3
   },
   "file_extension": ".py",
   "mimetype": "text/x-python",
   "name": "python",
   "nbconvert_exporter": "python",
   "pygments_lexer": "ipython3",
   "version": "3.9.9"
  }
 },
 "nbformat": 4,
 "nbformat_minor": 5
}
